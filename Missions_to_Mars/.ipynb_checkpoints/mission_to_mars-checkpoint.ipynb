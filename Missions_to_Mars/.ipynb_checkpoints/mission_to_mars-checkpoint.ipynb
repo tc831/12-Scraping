{
 "cells": [
  {
   "cell_type": "code",
   "execution_count": 1,
   "metadata": {},
   "outputs": [],
   "source": [
    "# Dependencies\n",
    "import pandas as pd\n",
    "from pprint import pprint\n",
    "from splinter import Browser\n",
    "from bs4 import BeautifulSoup as bs\n",
    "from webdriver_manager.chrome import ChromeDriverManager"
   ]
  },
  {
   "cell_type": "code",
   "execution_count": 2,
   "metadata": {},
   "outputs": [],
   "source": [
    "# Define function to choose the executable path\n",
    "def init_browser():\n",
    "    executable_path = {\"executable_path\": ChromeDriverManager().install()}\n",
    "    return Browser(\"chrome\", **executable_path, headless = False, user_agent = \"Mozilla/5.0 (Windows NT 10.0; Win64; x64) AppleWebKit/537.36 (KHTML, like Gecko) Chrome/95.0.4638.54 Safari/537.36\")\n",
    "\n",
    "# Set variable for multiple use string\n",
    "parser = \"html.parser\""
   ]
  },
  {
   "cell_type": "code",
   "execution_count": 3,
   "metadata": {},
   "outputs": [
    {
     "name": "stderr",
     "output_type": "stream",
     "text": [
      "\n",
      "\n",
      "====== WebDriver manager ======\n",
      "Current google-chrome version is 101.0.4951\n",
      "Get LATEST chromedriver version for 101.0.4951 google-chrome\n",
      "Driver [C:\\Users\\INTEL\\.wdm\\drivers\\chromedriver\\win32\\101.0.4951.41\\chromedriver.exe] found in cache\n"
     ]
    }
   ],
   "source": [
    "# Setup Browser\n",
    "browser = init_browser()"
   ]
  },
  {
   "cell_type": "markdown",
   "metadata": {},
   "source": [
    "# Connection to NASA Mars News"
   ]
  },
  {
   "cell_type": "code",
   "execution_count": 4,
   "metadata": {},
   "outputs": [],
   "source": [
    "# Visit to Mars News Site\n",
    "mars_news_url = \"http://redplanetscience.com\"\n",
    "browser.visit(mars_news_url)\n",
    "\n",
    "# HTML Object\n",
    "html = browser.html\n",
    "\n",
    "# Parse HTML with Beautiful Soup\n",
    "news_soup = bs(html, parser)"
   ]
  },
  {
   "cell_type": "markdown",
   "metadata": {},
   "source": [
    "## Latest Mars News"
   ]
  },
  {
   "cell_type": "code",
   "execution_count": 5,
   "metadata": {},
   "outputs": [
    {
     "name": "stdout",
     "output_type": "stream",
     "text": [
      "The Extraordinary Sample-Gathering System of NASA's Perseverance Mars Rover\n"
     ]
    }
   ],
   "source": [
    "# Retrieve the latest article's title\n",
    "news_title = news_soup.find(\"div\", class_ = \"content_title\")\n",
    "news_title = news_title.text.strip()\n",
    "print(news_title)"
   ]
  },
  {
   "cell_type": "code",
   "execution_count": 6,
   "metadata": {},
   "outputs": [
    {
     "name": "stdout",
     "output_type": "stream",
     "text": [
      "Two astronauts collected Moon rocks on Apollo 11. It will take three robotic systems working together to gather up the first Mars rock samples for return to Earth.\n"
     ]
    }
   ],
   "source": [
    "# Retrieve the latest article's paragraph\n",
    "news_paragraph = news_soup.find(\"div\", class_ = \"article_teaser_body\")\n",
    "news_paragraph = news_paragraph.text.strip()\n",
    "print(news_paragraph)"
   ]
  },
  {
   "cell_type": "markdown",
   "metadata": {},
   "source": [
    "# Connection to JPL Mars Space Images - Featured Image"
   ]
  },
  {
   "cell_type": "code",
   "execution_count": 7,
   "metadata": {},
   "outputs": [],
   "source": [
    "# Connect to Featured Space Image site\n",
    "mars_featured_image_url = \"http://spaceimages-mars.com/\"\n",
    "browser.visit(mars_featured_image_url)\n",
    "\n",
    "# HTML Object\n",
    "html = browser.html\n",
    "\n",
    "# Parse HTML with Beautiful Soup\n",
    "image_soup = bs(html, parser)"
   ]
  },
  {
   "cell_type": "markdown",
   "metadata": {},
   "source": [
    "## JPL Mars Space Images - Featured Image"
   ]
  },
  {
   "cell_type": "code",
   "execution_count": 8,
   "metadata": {},
   "outputs": [
    {
     "name": "stdout",
     "output_type": "stream",
     "text": [
      "http://spaceimages-mars.com/image/featured/mars3.jpg\n"
     ]
    }
   ],
   "source": [
    "# Assign the image's full URL string to a variable called \"featured_image_url\"\n",
    "featured_image = image_soup.find(\"img\", class_ = \"headerimage fade-in\")\n",
    "featured_image_url = mars_featured_image_url + featured_image[\"src\"]\n",
    "print(featured_image_url)"
   ]
  },
  {
   "cell_type": "markdown",
   "metadata": {},
   "source": [
    "# Connection to get Mars Facts"
   ]
  },
  {
   "cell_type": "code",
   "execution_count": 9,
   "metadata": {},
   "outputs": [],
   "source": [
    "# URL for Mars Facts\n",
    "mars_facts_url = \"http://space-facts.com/mars/\""
   ]
  },
  {
   "cell_type": "markdown",
   "metadata": {},
   "source": [
    "## Mars Facts"
   ]
  },
  {
   "cell_type": "code",
   "execution_count": 10,
   "metadata": {},
   "outputs": [
    {
     "data": {
      "text/html": [
       "<div>\n",
       "<style scoped>\n",
       "    .dataframe tbody tr th:only-of-type {\n",
       "        vertical-align: middle;\n",
       "    }\n",
       "\n",
       "    .dataframe tbody tr th {\n",
       "        vertical-align: top;\n",
       "    }\n",
       "\n",
       "    .dataframe thead th {\n",
       "        text-align: right;\n",
       "    }\n",
       "</style>\n",
       "<table border=\"1\" class=\"dataframe\">\n",
       "  <thead>\n",
       "    <tr style=\"text-align: right;\">\n",
       "      <th></th>\n",
       "      <th>Mars - Earth Comparison</th>\n",
       "      <th>Mars</th>\n",
       "      <th>Earth</th>\n",
       "    </tr>\n",
       "  </thead>\n",
       "  <tbody>\n",
       "    <tr>\n",
       "      <th>0</th>\n",
       "      <td>Diameter:</td>\n",
       "      <td>6,779 km</td>\n",
       "      <td>12,742 km</td>\n",
       "    </tr>\n",
       "    <tr>\n",
       "      <th>1</th>\n",
       "      <td>Mass:</td>\n",
       "      <td>6.39 × 10^23 kg</td>\n",
       "      <td>5.97 × 10^24 kg</td>\n",
       "    </tr>\n",
       "    <tr>\n",
       "      <th>2</th>\n",
       "      <td>Moons:</td>\n",
       "      <td>2</td>\n",
       "      <td>1</td>\n",
       "    </tr>\n",
       "    <tr>\n",
       "      <th>3</th>\n",
       "      <td>Distance from Sun:</td>\n",
       "      <td>227,943,824 km</td>\n",
       "      <td>149,598,262 km</td>\n",
       "    </tr>\n",
       "    <tr>\n",
       "      <th>4</th>\n",
       "      <td>Length of Year:</td>\n",
       "      <td>687 Earth days</td>\n",
       "      <td>365.24 days</td>\n",
       "    </tr>\n",
       "    <tr>\n",
       "      <th>5</th>\n",
       "      <td>Temperature:</td>\n",
       "      <td>-87 to -5 °C</td>\n",
       "      <td>-88 to 58°C</td>\n",
       "    </tr>\n",
       "  </tbody>\n",
       "</table>\n",
       "</div>"
      ],
      "text/plain": [
       "  Mars - Earth Comparison             Mars            Earth\n",
       "0               Diameter:         6,779 km        12,742 km\n",
       "1                   Mass:  6.39 × 10^23 kg  5.97 × 10^24 kg\n",
       "2                  Moons:                2                1\n",
       "3      Distance from Sun:   227,943,824 km   149,598,262 km\n",
       "4         Length of Year:   687 Earth days      365.24 days\n",
       "5            Temperature:     -87 to -5 °C      -88 to 58°C"
      ]
     },
     "execution_count": 10,
     "metadata": {},
     "output_type": "execute_result"
    }
   ],
   "source": [
    "# Use Pandas to convert the data to a HTML table string\n",
    "mars_facts = pd.read_html(mars_facts_url)\n",
    "\n",
    "# Save as DataFrame\n",
    "mars_facts_df = pd.DataFrame(mars_facts[1])\n",
    "\n",
    "mars_facts_df"
   ]
  },
  {
   "cell_type": "code",
   "execution_count": 11,
   "metadata": {},
   "outputs": [],
   "source": [
    "# Save DataFrame to html\n",
    "mars_facts_df.to_html(\"Resources/mars_facts.html\")"
   ]
  },
  {
   "cell_type": "code",
   "execution_count": 12,
   "metadata": {},
   "outputs": [
    {
     "name": "stdout",
     "output_type": "stream",
     "text": [
      "('<table border=\"1\" class=\"dataframe\">\\n'\n",
      " '  <thead>\\n'\n",
      " '    <tr style=\"text-align: right;\">\\n'\n",
      " '      <th></th>\\n'\n",
      " '      <th>Mars - Earth Comparison</th>\\n'\n",
      " '      <th>Mars</th>\\n'\n",
      " '      <th>Earth</th>\\n'\n",
      " '    </tr>\\n'\n",
      " '  </thead>\\n'\n",
      " '  <tbody>\\n'\n",
      " '    <tr>\\n'\n",
      " '      <th>0</th>\\n'\n",
      " '      <td>Diameter:</td>\\n'\n",
      " '      <td>6,779 km</td>\\n'\n",
      " '      <td>12,742 km</td>\\n'\n",
      " '    </tr>\\n'\n",
      " '    <tr>\\n'\n",
      " '      <th>1</th>\\n'\n",
      " '      <td>Mass:</td>\\n'\n",
      " '      <td>6.39 × 10^23 kg</td>\\n'\n",
      " '      <td>5.97 × 10^24 kg</td>\\n'\n",
      " '    </tr>\\n'\n",
      " '    <tr>\\n'\n",
      " '      <th>2</th>\\n'\n",
      " '      <td>Moons:</td>\\n'\n",
      " '      <td>2</td>\\n'\n",
      " '      <td>1</td>\\n'\n",
      " '    </tr>\\n'\n",
      " '    <tr>\\n'\n",
      " '      <th>3</th>\\n'\n",
      " '      <td>Distance from Sun:</td>\\n'\n",
      " '      <td>227,943,824 km</td>\\n'\n",
      " '      <td>149,598,262 km</td>\\n'\n",
      " '    </tr>\\n'\n",
      " '    <tr>\\n'\n",
      " '      <th>4</th>\\n'\n",
      " '      <td>Length of Year:</td>\\n'\n",
      " '      <td>687 Earth days</td>\\n'\n",
      " '      <td>365.24 days</td>\\n'\n",
      " '    </tr>\\n'\n",
      " '    <tr>\\n'\n",
      " '      <th>5</th>\\n'\n",
      " '      <td>Temperature:</td>\\n'\n",
      " '      <td>-87 to -5 °C</td>\\n'\n",
      " '      <td>-88 to 58°C</td>\\n'\n",
      " '    </tr>\\n'\n",
      " '  </tbody>\\n'\n",
      " '</table>')\n"
     ]
    }
   ],
   "source": [
    "# Convert DataFrame to HTML string\n",
    "mars_facts = mars_facts_df.to_html(header = True, index = True)\n",
    "pprint(mars_facts)"
   ]
  },
  {
   "cell_type": "markdown",
   "metadata": {},
   "source": [
    "# Connection to astrogeology site"
   ]
  },
  {
   "cell_type": "code",
   "execution_count": 13,
   "metadata": {},
   "outputs": [],
   "source": [
    "# Visit the url for Mars Hemisphere\n",
    "mars_hemispheres_url = \"http://marshemispheres.com/\"\n",
    "browser.visit(mars_hemispheres_url)\n",
    "\n",
    "# HTML Object\n",
    "html = browser.html\n",
    "\n",
    "# Parse HTML with Beautiful Soup\n",
    "hemispheres_soup = bs(html, parser)\n",
    "\n",
    "# Each link is located in \"div\" tag, class \"description\"\n",
    "# Find all elements and store in variable\n",
    "hems_url = hemispheres_soup.find_all(\"div\", class_ = \"description\")"
   ]
  },
  {
   "cell_type": "markdown",
   "metadata": {},
   "source": [
    "## Mars Hemispheres"
   ]
  },
  {
   "cell_type": "code",
   "execution_count": 14,
   "metadata": {},
   "outputs": [],
   "source": [
    "# Create empty list for each URL\n",
    "hemis_url = []\n",
    "\n",
    "# Append all URL\n",
    "for hem in hems_url:\n",
    "    \n",
    "    hem_url = hem.find(\"a\")[\"href\"]\n",
    "    hemis_url.append(hem_url)"
   ]
  },
  {
   "cell_type": "code",
   "execution_count": 15,
   "metadata": {},
   "outputs": [
    {
     "name": "stdout",
     "output_type": "stream",
     "text": [
      "http://marshemispheres.com/cerberus.html\n",
      "http://marshemispheres.com/schiaparelli.html\n",
      "http://marshemispheres.com/syrtis.html\n",
      "http://marshemispheres.com/valles.html\n"
     ]
    }
   ],
   "source": [
    "# Create list of dictionaries called hemisphere_image_urls\n",
    "hemisphere_image_urls = []\n",
    "\n",
    "# Iterate through all URLs saved in variable\n",
    "for hemi in hemis_url:\n",
    "    \n",
    "    mars_hem_url = mars_hemispheres_url + hemi\n",
    "    print(mars_hem_url)\n",
    "    \n",
    "    # Visit to Hemisphere\n",
    "    browser.visit(mars_hem_url)\n",
    "    \n",
    "    # HTML Object\n",
    "    html = browser.html\n",
    "\n",
    "    # Parse HTML with Beautiful Soup\n",
    "    hemi_soup = bs(html, parser)\n",
    "\n",
    "    # Find all titles and save to be cleaned\n",
    "    raw_title = hemi_soup.find(\"h2\", class_ = \"title\").text\n",
    "    \n",
    "    # Remove \" Enhanced\" tag text from each \"title\"\n",
    "    title = raw_title.split(\" Enhanced\")[0]\n",
    "    \n",
    "    # Find all full resolution image for all Hemisphere URLs\n",
    "    img_url = hemi_soup.find(\"img\", class_ = \"wide-image\")[\"src\"]\n",
    "    \n",
    "    # Append \"title\" and \"img_url\" to \"hemisphere_image_url\"\n",
    "    hemisphere_image_urls.append({\"title\": title, \"img_url\": mars_hemispheres_url + img_url})\n",
    "\n",
    "# Exit Browser\n",
    "browser.quit()"
   ]
  },
  {
   "cell_type": "code",
   "execution_count": 16,
   "metadata": {},
   "outputs": [
    {
     "name": "stdout",
     "output_type": "stream",
     "text": [
      "[{'img_url': 'http://marshemispheres.com/images/f5e372a36edfa389625da6d0cc25d905_cerberus_enhanced.tif_full.jpg',\n",
      "  'title': 'Cerberus Hemisphere'},\n",
      " {'img_url': 'http://marshemispheres.com/images/3778f7b43bbbc89d6e3cfabb3613ba93_schiaparelli_enhanced.tif_full.jpg',\n",
      "  'title': 'Schiaparelli Hemisphere'},\n",
      " {'img_url': 'http://marshemispheres.com/images/555e6403a6ddd7ba16ddb0e471cadcf7_syrtis_major_enhanced.tif_full.jpg',\n",
      "  'title': 'Syrtis Major Hemisphere'},\n",
      " {'img_url': 'http://marshemispheres.com/images/b3c7c6c9138f57b4756be9b9c43e3a48_valles_marineris_enhanced.tif_full.jpg',\n",
      "  'title': 'Valles Marineris Hemisphere'}]\n"
     ]
    }
   ],
   "source": [
    "pprint(hemisphere_image_urls)"
   ]
  },
  {
   "cell_type": "markdown",
   "metadata": {},
   "source": [
    "# Prepare a Python dictionary to store in Mongo"
   ]
  },
  {
   "cell_type": "code",
   "execution_count": 17,
   "metadata": {},
   "outputs": [],
   "source": [
    "# Create dictionary for all Mars Data.\n",
    "mars_data = {}\n",
    "\n",
    "# Append news_title and news_paragraph to mars_data\n",
    "mars_data[\"news_title\"] = news_title\n",
    "mars_data[\"news_paragraph\"] = news_paragraph"
   ]
  },
  {
   "cell_type": "code",
   "execution_count": 18,
   "metadata": {},
   "outputs": [],
   "source": [
    "# Append featured_image_url to mars_data.\n",
    "mars_data[\"featured_image_url\"] = featured_image_url"
   ]
  },
  {
   "cell_type": "code",
   "execution_count": 19,
   "metadata": {},
   "outputs": [],
   "source": [
    "# Append mars_facts to mars_data.\n",
    "mars_data[\"mars_facts\"] = mars_facts"
   ]
  },
  {
   "cell_type": "code",
   "execution_count": 20,
   "metadata": {},
   "outputs": [],
   "source": [
    "# Append hemisphere_image_urls to mars_data.\n",
    "mars_data[\"hemisphere_image_urls\"] = hemisphere_image_urls"
   ]
  },
  {
   "cell_type": "code",
   "execution_count": 21,
   "metadata": {},
   "outputs": [
    {
     "name": "stdout",
     "output_type": "stream",
     "text": [
      "{'featured_image_url': 'http://spaceimages-mars.com/image/featured/mars3.jpg',\n",
      " 'hemisphere_image_urls': [{'img_url': 'http://marshemispheres.com/images/f5e372a36edfa389625da6d0cc25d905_cerberus_enhanced.tif_full.jpg',\n",
      "                            'title': 'Cerberus Hemisphere'},\n",
      "                           {'img_url': 'http://marshemispheres.com/images/3778f7b43bbbc89d6e3cfabb3613ba93_schiaparelli_enhanced.tif_full.jpg',\n",
      "                            'title': 'Schiaparelli Hemisphere'},\n",
      "                           {'img_url': 'http://marshemispheres.com/images/555e6403a6ddd7ba16ddb0e471cadcf7_syrtis_major_enhanced.tif_full.jpg',\n",
      "                            'title': 'Syrtis Major Hemisphere'},\n",
      "                           {'img_url': 'http://marshemispheres.com/images/b3c7c6c9138f57b4756be9b9c43e3a48_valles_marineris_enhanced.tif_full.jpg',\n",
      "                            'title': 'Valles Marineris Hemisphere'}],\n",
      " 'mars_facts': '<table border=\"1\" class=\"dataframe\">\\n'\n",
      "               '  <thead>\\n'\n",
      "               '    <tr style=\"text-align: right;\">\\n'\n",
      "               '      <th></th>\\n'\n",
      "               '      <th>Mars - Earth Comparison</th>\\n'\n",
      "               '      <th>Mars</th>\\n'\n",
      "               '      <th>Earth</th>\\n'\n",
      "               '    </tr>\\n'\n",
      "               '  </thead>\\n'\n",
      "               '  <tbody>\\n'\n",
      "               '    <tr>\\n'\n",
      "               '      <th>0</th>\\n'\n",
      "               '      <td>Diameter:</td>\\n'\n",
      "               '      <td>6,779 km</td>\\n'\n",
      "               '      <td>12,742 km</td>\\n'\n",
      "               '    </tr>\\n'\n",
      "               '    <tr>\\n'\n",
      "               '      <th>1</th>\\n'\n",
      "               '      <td>Mass:</td>\\n'\n",
      "               '      <td>6.39 × 10^23 kg</td>\\n'\n",
      "               '      <td>5.97 × 10^24 kg</td>\\n'\n",
      "               '    </tr>\\n'\n",
      "               '    <tr>\\n'\n",
      "               '      <th>2</th>\\n'\n",
      "               '      <td>Moons:</td>\\n'\n",
      "               '      <td>2</td>\\n'\n",
      "               '      <td>1</td>\\n'\n",
      "               '    </tr>\\n'\n",
      "               '    <tr>\\n'\n",
      "               '      <th>3</th>\\n'\n",
      "               '      <td>Distance from Sun:</td>\\n'\n",
      "               '      <td>227,943,824 km</td>\\n'\n",
      "               '      <td>149,598,262 km</td>\\n'\n",
      "               '    </tr>\\n'\n",
      "               '    <tr>\\n'\n",
      "               '      <th>4</th>\\n'\n",
      "               '      <td>Length of Year:</td>\\n'\n",
      "               '      <td>687 Earth days</td>\\n'\n",
      "               '      <td>365.24 days</td>\\n'\n",
      "               '    </tr>\\n'\n",
      "               '    <tr>\\n'\n",
      "               '      <th>5</th>\\n'\n",
      "               '      <td>Temperature:</td>\\n'\n",
      "               '      <td>-87 to -5 °C</td>\\n'\n",
      "               '      <td>-88 to 58°C</td>\\n'\n",
      "               '    </tr>\\n'\n",
      "               '  </tbody>\\n'\n",
      "               '</table>',\n",
      " 'news_paragraph': 'Two astronauts collected Moon rocks on Apollo 11. It will '\n",
      "                   'take three robotic systems working together to gather up '\n",
      "                   'the first Mars rock samples for return to Earth.',\n",
      " 'news_title': \"The Extraordinary Sample-Gathering System of NASA's \"\n",
      "               'Perseverance Mars Rover'}\n"
     ]
    }
   ],
   "source": [
    "pprint(mars_data)"
   ]
  }
 ],
 "metadata": {
  "interpreter": {
   "hash": "cba033dbfb308e6ef82904202bf1aac94d65a342a0fa0b8648c060ba2fe22e31"
  },
  "kernelspec": {
   "display_name": "Python 3",
   "language": "python",
   "name": "python3"
  },
  "language_info": {
   "codemirror_mode": {
    "name": "ipython",
    "version": 3
   },
   "file_extension": ".py",
   "mimetype": "text/x-python",
   "name": "python",
   "nbconvert_exporter": "python",
   "pygments_lexer": "ipython3",
   "version": "3.6.10"
  }
 },
 "nbformat": 4,
 "nbformat_minor": 2
}
